{
 "cells": [
  {
   "cell_type": "code",
   "execution_count": 138,
   "metadata": {},
   "outputs": [],
   "source": [
    "# Imports\n",
    "\n",
    "# Exploratory Data Analysis\n",
    "import pandas as pd\n",
    "import matplotlib.pyplot as plt\n",
    "import numpy as np\n",
    "import seaborn as sns\n",
    "\n",
    "# Modeling\n",
    "from sklearn.linear_model import LinearRegression, LogisticRegression\n",
    "from sklearn.preprocessing import StandardScaler\n",
    "from sklearn.model_selection import train_test_split, cross_val_score, GridSearchCV\n",
    "from sklearn import metrics\n",
    "from sklearn.pipeline import Pipeline\n",
    "from sklearn.naive_bayes import MultinomialNB\n",
    "from sklearn.metrics import confusion_matrix, plot_confusion_matrix\n",
    "from sklearn.ensemble import RandomForestClassifier, ExtraTreesClassifier\n",
    "\n",
    "# Webscraping & API\n",
    "import praw\n",
    "\n",
    "# NLP\n",
    "from sklearn.feature_extraction.text import CountVectorizer, TfidfVectorizer\n"
   ]
  },
  {
   "cell_type": "code",
   "execution_count": 139,
   "metadata": {},
   "outputs": [],
   "source": [
    "# Problem Statement:\n",
    "#     The goal os this project will be to analyze some recent subreddit posts among various stocks and to analyze whether\n",
    "# a post is is regards to the stock market or the options subreddits, making it a binary classification problem. \n",
    "# The importance of this is to distinguish between the general stock market and options. Options is an important subsection\n",
    "# of the stock market which increases the complexity of this model. \n",
    "\n",
    "# Success of the model will be evaluated through classification metrics inclduing accuracy, precision, etc.\n",
    "\n",
    "# The primary audience of this model includes but is not limited to: first-time stock market investors and those interested\n",
    "# in economics or security analysis. "
   ]
  },
  {
   "cell_type": "code",
   "execution_count": 140,
   "metadata": {},
   "outputs": [],
   "source": [
    "# Using API to retieve posts from both the stock and options subreddits\n",
    "\n",
    "\n",
    "reddit = praw.Reddit(client_id = 'g4FC_rdrpisp6A',     #this is that personal use script key\n",
    "                     client_secret = 'dQrqoDTuRhpuSMZk_Ew8R_Tros4', #this is that secret key\n",
    "                     user_agent = 'localtime',    #Whatever name you gave your application\n",
    "                     username = '',      #your Reddit user name\n",
    "                     password = '')      #your Reddit password"
   ]
  },
  {
   "cell_type": "code",
   "execution_count": 192,
   "metadata": {},
   "outputs": [
    {
     "ename": "TypeError",
     "evalue": "'Subreddit' object is not subscriptable",
     "output_type": "error",
     "traceback": [
      "\u001b[1;31m---------------------------------------------------------------------------\u001b[0m",
      "\u001b[1;31mTypeError\u001b[0m                                 Traceback (most recent call last)",
      "\u001b[1;32m<ipython-input-192-3a6a19d92619>\u001b[0m in \u001b[0;36m<module>\u001b[1;34m\u001b[0m\n\u001b[0;32m      1\u001b[0m \u001b[0msubreddit\u001b[0m \u001b[1;33m=\u001b[0m \u001b[0mreddit\u001b[0m\u001b[1;33m.\u001b[0m\u001b[0msubreddit\u001b[0m\u001b[1;33m(\u001b[0m\u001b[1;34m'StockMarket'\u001b[0m\u001b[1;33m)\u001b[0m\u001b[1;33m\u001b[0m\u001b[1;33m\u001b[0m\u001b[0m\n\u001b[1;32m----> 2\u001b[1;33m \u001b[0msubreddit\u001b[0m\u001b[1;33m[\u001b[0m\u001b[1;34m'StockMarket'\u001b[0m\u001b[1;33m]\u001b[0m\u001b[1;33m\u001b[0m\u001b[1;33m\u001b[0m\u001b[0m\n\u001b[0m",
      "\u001b[1;31mTypeError\u001b[0m: 'Subreddit' object is not subscriptable"
     ]
    }
   ],
   "source": [
    "subreddit = reddit.subreddit('StockMarket') "
   ]
  },
  {
   "cell_type": "code",
   "execution_count": 142,
   "metadata": {},
   "outputs": [],
   "source": [
    "altsubreddit = reddit.subreddit('options')"
   ]
  },
  {
   "cell_type": "code",
   "execution_count": 195,
   "metadata": {},
   "outputs": [
    {
     "data": {
      "text/plain": [
       "<praw.models.listing.generator.ListingGenerator at 0x1dad43043a0>"
      ]
     },
     "execution_count": 195,
     "metadata": {},
     "output_type": "execute_result"
    }
   ],
   "source": [
    "stocks = subreddit.top(limit = 1000)"
   ]
  },
  {
   "cell_type": "code",
   "execution_count": 144,
   "metadata": {},
   "outputs": [],
   "source": [
    "options = altsubreddit.top(limit = 1000)"
   ]
  },
  {
   "cell_type": "code",
   "execution_count": 145,
   "metadata": {},
   "outputs": [],
   "source": [
    "# Using API to retieve posts from both the stock and options subreddits\n",
    "\n",
    "stock_posts = { \"title\":[],\n",
    "                \"score\":[],\n",
    "                \"id\":[],\n",
    "                \"url\":[], \n",
    "                \"comms_num\": [],\n",
    "                \"created\": [],\n",
    "                \"body\":[]}\n",
    "\n",
    "for item in stocks:\n",
    "    stock_posts[\"title\"].append(item.title)\n",
    "    stock_posts[\"score\"].append(item.score)\n",
    "    stock_posts[\"id\"].append(item.id)\n",
    "    stock_posts[\"url\"].append(item.url)\n",
    "    stock_posts[\"comms_num\"].append(item.num_comments)\n",
    "    stock_posts[\"created\"].append(item.created)\n",
    "    stock_posts[\"body\"].append(item.selftext)\n",
    "    "
   ]
  },
  {
   "cell_type": "code",
   "execution_count": 146,
   "metadata": {},
   "outputs": [],
   "source": [
    "options_posts = { \"title\":[],\n",
    "                \"score\":[],\n",
    "                \"id\":[],\n",
    "                \"url\":[], \n",
    "                \"comms_num\": [],\n",
    "                \"created\": [],\n",
    "                \"body\":[]}\n",
    "\n",
    "#Use a for loop to take the posts gathered by the wrapper and place them into a dictionary.\n",
    "\n",
    "for item in options:\n",
    "    options_posts[\"title\"].append(item.title)\n",
    "    options_posts[\"score\"].append(item.score)\n",
    "    options_posts[\"id\"].append(item.id)\n",
    "    options_posts[\"url\"].append(item.url)\n",
    "    options_posts[\"comms_num\"].append(item.num_comments)\n",
    "    options_posts[\"created\"].append(item.created)\n",
    "    options_posts[\"body\"].append(item.selftext)"
   ]
  },
  {
   "cell_type": "code",
   "execution_count": 147,
   "metadata": {},
   "outputs": [
    {
     "data": {
      "text/html": [
       "<div>\n",
       "<style scoped>\n",
       "    .dataframe tbody tr th:only-of-type {\n",
       "        vertical-align: middle;\n",
       "    }\n",
       "\n",
       "    .dataframe tbody tr th {\n",
       "        vertical-align: top;\n",
       "    }\n",
       "\n",
       "    .dataframe thead th {\n",
       "        text-align: right;\n",
       "    }\n",
       "</style>\n",
       "<table border=\"1\" class=\"dataframe\">\n",
       "  <thead>\n",
       "    <tr style=\"text-align: right;\">\n",
       "      <th></th>\n",
       "      <th>title</th>\n",
       "      <th>score</th>\n",
       "      <th>id</th>\n",
       "      <th>url</th>\n",
       "      <th>comms_num</th>\n",
       "      <th>created</th>\n",
       "      <th>body</th>\n",
       "      <th>subreddit</th>\n",
       "    </tr>\n",
       "  </thead>\n",
       "  <tbody>\n",
       "    <tr>\n",
       "      <th>0</th>\n",
       "      <td>Can mods ban wallstreetbets behaviour and talk?</td>\n",
       "      <td>3200</td>\n",
       "      <td>fvgbu6</td>\n",
       "      <td>https://www.reddit.com/r/options/comments/fvgb...</td>\n",
       "      <td>326</td>\n",
       "      <td>1.586132e+09</td>\n",
       "      <td>Recently i've been seeing a lot of \"you're a r...</td>\n",
       "      <td>0</td>\n",
       "    </tr>\n",
       "    <tr>\n",
       "      <th>1</th>\n",
       "      <td>I hated all the Apps for viewing Stock Reports...</td>\n",
       "      <td>2189</td>\n",
       "      <td>hap5cl</td>\n",
       "      <td>https://v.redd.it/9wy5n1k9eg551</td>\n",
       "      <td>181</td>\n",
       "      <td>1.592421e+09</td>\n",
       "      <td></td>\n",
       "      <td>0</td>\n",
       "    </tr>\n",
       "    <tr>\n",
       "      <th>2</th>\n",
       "      <td>Any interest in a \"Visual Guide to the Greeks\"?</td>\n",
       "      <td>1941</td>\n",
       "      <td>gm289b</td>\n",
       "      <td>https://www.reddit.com/r/options/comments/gm28...</td>\n",
       "      <td>171</td>\n",
       "      <td>1.589840e+09</td>\n",
       "      <td>I get the impression a lot of people have a ha...</td>\n",
       "      <td>0</td>\n",
       "    </tr>\n",
       "    <tr>\n",
       "      <th>3</th>\n",
       "      <td>Hello fellow gambl- option traders! I’ve creat...</td>\n",
       "      <td>1767</td>\n",
       "      <td>ft558f</td>\n",
       "      <td>https://i.redd.it/ab0kdcocx8q41.jpg</td>\n",
       "      <td>499</td>\n",
       "      <td>1.585793e+09</td>\n",
       "      <td></td>\n",
       "      <td>0</td>\n",
       "    </tr>\n",
       "    <tr>\n",
       "      <th>4</th>\n",
       "      <td>My option play for last week. Once in a lifeti...</td>\n",
       "      <td>1615</td>\n",
       "      <td>fiur0t</td>\n",
       "      <td>https://i.redd.it/6w93j3cd5rm41.jpg</td>\n",
       "      <td>340</td>\n",
       "      <td>1.584270e+09</td>\n",
       "      <td></td>\n",
       "      <td>0</td>\n",
       "    </tr>\n",
       "    <tr>\n",
       "      <th>...</th>\n",
       "      <td>...</td>\n",
       "      <td>...</td>\n",
       "      <td>...</td>\n",
       "      <td>...</td>\n",
       "      <td>...</td>\n",
       "      <td>...</td>\n",
       "      <td>...</td>\n",
       "      <td>...</td>\n",
       "    </tr>\n",
       "    <tr>\n",
       "      <th>991</th>\n",
       "      <td>Betting 20% of my portfolio on dips next week....</td>\n",
       "      <td>60</td>\n",
       "      <td>cv5k32</td>\n",
       "      <td>https://www.reddit.com/r/options/comments/cv5k...</td>\n",
       "      <td>72</td>\n",
       "      <td>1.566747e+09</td>\n",
       "      <td>Thinking about buying week long puts on variou...</td>\n",
       "      <td>0</td>\n",
       "    </tr>\n",
       "    <tr>\n",
       "      <th>992</th>\n",
       "      <td>Most Anticipated Earnings Releases for the wee...</td>\n",
       "      <td>66</td>\n",
       "      <td>c0q0oi</td>\n",
       "      <td>https://i.redd.it/afbor3o8ce431.jpg</td>\n",
       "      <td>23</td>\n",
       "      <td>1.560579e+09</td>\n",
       "      <td></td>\n",
       "      <td>0</td>\n",
       "    </tr>\n",
       "    <tr>\n",
       "      <th>993</th>\n",
       "      <td>Anyone know any good premium trades that you c...</td>\n",
       "      <td>60</td>\n",
       "      <td>bjzk5e</td>\n",
       "      <td>https://www.reddit.com/r/options/comments/bjzk...</td>\n",
       "      <td>95</td>\n",
       "      <td>1.556857e+09</td>\n",
       "      <td>For starting out with a smaller account.</td>\n",
       "      <td>0</td>\n",
       "    </tr>\n",
       "    <tr>\n",
       "      <th>994</th>\n",
       "      <td>Are Calls Too Expensive Now?</td>\n",
       "      <td>65</td>\n",
       "      <td>a9jiii</td>\n",
       "      <td>https://www.reddit.com/r/options/comments/a9ji...</td>\n",
       "      <td>55</td>\n",
       "      <td>1.545811e+09</td>\n",
       "      <td>\\n\\n## With the market way oversold, I expect...</td>\n",
       "      <td>0</td>\n",
       "    </tr>\n",
       "    <tr>\n",
       "      <th>995</th>\n",
       "      <td>Where can I (Australian) buy s&amp;p options?</td>\n",
       "      <td>38</td>\n",
       "      <td>jfu6qk</td>\n",
       "      <td>https://www.reddit.com/r/options/comments/jfu6...</td>\n",
       "      <td>43</td>\n",
       "      <td>1.603376e+09</td>\n",
       "      <td>Where is a good exchange / broken to buy call/...</td>\n",
       "      <td>0</td>\n",
       "    </tr>\n",
       "  </tbody>\n",
       "</table>\n",
       "<p>996 rows × 8 columns</p>\n",
       "</div>"
      ],
      "text/plain": [
       "                                                 title  score      id  \\\n",
       "0      Can mods ban wallstreetbets behaviour and talk?   3200  fvgbu6   \n",
       "1    I hated all the Apps for viewing Stock Reports...   2189  hap5cl   \n",
       "2      Any interest in a \"Visual Guide to the Greeks\"?   1941  gm289b   \n",
       "3    Hello fellow gambl- option traders! I’ve creat...   1767  ft558f   \n",
       "4    My option play for last week. Once in a lifeti...   1615  fiur0t   \n",
       "..                                                 ...    ...     ...   \n",
       "991  Betting 20% of my portfolio on dips next week....     60  cv5k32   \n",
       "992  Most Anticipated Earnings Releases for the wee...     66  c0q0oi   \n",
       "993  Anyone know any good premium trades that you c...     60  bjzk5e   \n",
       "994                       Are Calls Too Expensive Now?     65  a9jiii   \n",
       "995          Where can I (Australian) buy s&p options?     38  jfu6qk   \n",
       "\n",
       "                                                   url  comms_num  \\\n",
       "0    https://www.reddit.com/r/options/comments/fvgb...        326   \n",
       "1                      https://v.redd.it/9wy5n1k9eg551        181   \n",
       "2    https://www.reddit.com/r/options/comments/gm28...        171   \n",
       "3                  https://i.redd.it/ab0kdcocx8q41.jpg        499   \n",
       "4                  https://i.redd.it/6w93j3cd5rm41.jpg        340   \n",
       "..                                                 ...        ...   \n",
       "991  https://www.reddit.com/r/options/comments/cv5k...         72   \n",
       "992                https://i.redd.it/afbor3o8ce431.jpg         23   \n",
       "993  https://www.reddit.com/r/options/comments/bjzk...         95   \n",
       "994  https://www.reddit.com/r/options/comments/a9ji...         55   \n",
       "995  https://www.reddit.com/r/options/comments/jfu6...         43   \n",
       "\n",
       "          created                                               body  \\\n",
       "0    1.586132e+09  Recently i've been seeing a lot of \"you're a r...   \n",
       "1    1.592421e+09                                                      \n",
       "2    1.589840e+09  I get the impression a lot of people have a ha...   \n",
       "3    1.585793e+09                                                      \n",
       "4    1.584270e+09                                                      \n",
       "..            ...                                                ...   \n",
       "991  1.566747e+09  Thinking about buying week long puts on variou...   \n",
       "992  1.560579e+09                                                      \n",
       "993  1.556857e+09           For starting out with a smaller account.   \n",
       "994  1.545811e+09   \\n\\n## With the market way oversold, I expect...   \n",
       "995  1.603376e+09  Where is a good exchange / broken to buy call/...   \n",
       "\n",
       "     subreddit  \n",
       "0            0  \n",
       "1            0  \n",
       "2            0  \n",
       "3            0  \n",
       "4            0  \n",
       "..         ...  \n",
       "991          0  \n",
       "992          0  \n",
       "993          0  \n",
       "994          0  \n",
       "995          0  \n",
       "\n",
       "[996 rows x 8 columns]"
      ]
     },
     "execution_count": 147,
     "metadata": {},
     "output_type": "execute_result"
    }
   ],
   "source": [
    "options_posts_df = pd.DataFrame(options_posts)\n",
    "options_posts_df['subreddit'] = 0\n",
    "options_posts_df"
   ]
  },
  {
   "cell_type": "code",
   "execution_count": 148,
   "metadata": {},
   "outputs": [
    {
     "data": {
      "text/html": [
       "<div>\n",
       "<style scoped>\n",
       "    .dataframe tbody tr th:only-of-type {\n",
       "        vertical-align: middle;\n",
       "    }\n",
       "\n",
       "    .dataframe tbody tr th {\n",
       "        vertical-align: top;\n",
       "    }\n",
       "\n",
       "    .dataframe thead th {\n",
       "        text-align: right;\n",
       "    }\n",
       "</style>\n",
       "<table border=\"1\" class=\"dataframe\">\n",
       "  <thead>\n",
       "    <tr style=\"text-align: right;\">\n",
       "      <th></th>\n",
       "      <th>title</th>\n",
       "      <th>score</th>\n",
       "      <th>id</th>\n",
       "      <th>url</th>\n",
       "      <th>comms_num</th>\n",
       "      <th>created</th>\n",
       "      <th>body</th>\n",
       "      <th>subreddit</th>\n",
       "    </tr>\n",
       "  </thead>\n",
       "  <tbody>\n",
       "    <tr>\n",
       "      <th>0</th>\n",
       "      <td>US airlines would not need the bailout if they...</td>\n",
       "      <td>4857</td>\n",
       "      <td>ful324</td>\n",
       "      <td>https://www.reddit.com/r/StockMarket/comments/...</td>\n",
       "      <td>633</td>\n",
       "      <td>1.585993e+09</td>\n",
       "      <td>US airlines would not need the bailout if they...</td>\n",
       "      <td>1</td>\n",
       "    </tr>\n",
       "    <tr>\n",
       "      <th>1</th>\n",
       "      <td>Welcome to Black Monday of 2020! Market plunge...</td>\n",
       "      <td>4075</td>\n",
       "      <td>fjl7jd</td>\n",
       "      <td>https://i.redd.it/keozc3bah1n41.png</td>\n",
       "      <td>408</td>\n",
       "      <td>1.584395e+09</td>\n",
       "      <td></td>\n",
       "      <td>1</td>\n",
       "    </tr>\n",
       "    <tr>\n",
       "      <th>2</th>\n",
       "      <td>Sen. Kelly Loeffler Dumped Millions in Stock A...</td>\n",
       "      <td>3306</td>\n",
       "      <td>flm21j</td>\n",
       "      <td>https://www.reddit.com/r/StockMarket/comments/...</td>\n",
       "      <td>364</td>\n",
       "      <td>1.584696e+09</td>\n",
       "      <td>&gt;The Senate’s newest member sold off seven fig...</td>\n",
       "      <td>1</td>\n",
       "    </tr>\n",
       "    <tr>\n",
       "      <th>3</th>\n",
       "      <td>Mark Cuban: Every household in America should ...</td>\n",
       "      <td>3292</td>\n",
       "      <td>iyw4q1</td>\n",
       "      <td>https://www.reddit.com/r/StockMarket/comments/...</td>\n",
       "      <td>591</td>\n",
       "      <td>1.600979e+09</td>\n",
       "      <td>https://www.cnbc.com/2020/09/23/mark-cuban-ame...</td>\n",
       "      <td>1</td>\n",
       "    </tr>\n",
       "    <tr>\n",
       "      <th>4</th>\n",
       "      <td>This Monday is the Anniversary of the 1987 Bla...</td>\n",
       "      <td>2799</td>\n",
       "      <td>jdhwpt</td>\n",
       "      <td>https://i.redd.it/3rpxkpz5dvt51.jpg</td>\n",
       "      <td>334</td>\n",
       "      <td>1.603063e+09</td>\n",
       "      <td></td>\n",
       "      <td>1</td>\n",
       "    </tr>\n",
       "    <tr>\n",
       "      <th>...</th>\n",
       "      <td>...</td>\n",
       "      <td>...</td>\n",
       "      <td>...</td>\n",
       "      <td>...</td>\n",
       "      <td>...</td>\n",
       "      <td>...</td>\n",
       "      <td>...</td>\n",
       "      <td>...</td>\n",
       "    </tr>\n",
       "    <tr>\n",
       "      <th>992</th>\n",
       "      <td>How I Use Data to Analyze My Trading Performance</td>\n",
       "      <td>154</td>\n",
       "      <td>bif9p3</td>\n",
       "      <td>https://www.reddit.com/r/StockMarket/comments/...</td>\n",
       "      <td>19</td>\n",
       "      <td>1.556510e+09</td>\n",
       "      <td>Hey all. As a pretty active trader I thought p...</td>\n",
       "      <td>1</td>\n",
       "    </tr>\n",
       "    <tr>\n",
       "      <th>993</th>\n",
       "      <td>Analyzing Uber's 300+ page IPO filing (x-post ...</td>\n",
       "      <td>156</td>\n",
       "      <td>bd4mxv</td>\n",
       "      <td>https://www.reddit.com/r/StockMarket/comments/...</td>\n",
       "      <td>40</td>\n",
       "      <td>1.555289e+09</td>\n",
       "      <td>I made a [video](https://www.youtube.com/watch...</td>\n",
       "      <td>1</td>\n",
       "    </tr>\n",
       "    <tr>\n",
       "      <th>994</th>\n",
       "      <td>Major US airlines coming back online after sys...</td>\n",
       "      <td>158</td>\n",
       "      <td>b81bhg</td>\n",
       "      <td>https://www.reddit.com/r/StockMarket/comments/...</td>\n",
       "      <td>13</td>\n",
       "      <td>1.554149e+09</td>\n",
       "      <td>https://www.cnbc.com/2019/04/01/southwest-delt...</td>\n",
       "      <td>1</td>\n",
       "    </tr>\n",
       "    <tr>\n",
       "      <th>995</th>\n",
       "      <td>$LYFT - Lyft, Inc. and Uber Could Face Major H...</td>\n",
       "      <td>160</td>\n",
       "      <td>b7wndx</td>\n",
       "      <td>https://www.reddit.com/r/StockMarket/comments/...</td>\n",
       "      <td>35</td>\n",
       "      <td>1.554117e+09</td>\n",
       "      <td>Lyft, Inc. (NASDAQ: LYFT) and Uber Could Face ...</td>\n",
       "      <td>1</td>\n",
       "    </tr>\n",
       "    <tr>\n",
       "      <th>996</th>\n",
       "      <td>2019 has a chance at being a historic year for...</td>\n",
       "      <td>157</td>\n",
       "      <td>edbnvb</td>\n",
       "      <td>https://www.reddit.com/r/StockMarket/comments/...</td>\n",
       "      <td>61</td>\n",
       "      <td>1.576885e+09</td>\n",
       "      <td>https://www.cnbc.com/2019/12/19/stocks-have-a-...</td>\n",
       "      <td>1</td>\n",
       "    </tr>\n",
       "  </tbody>\n",
       "</table>\n",
       "<p>997 rows × 8 columns</p>\n",
       "</div>"
      ],
      "text/plain": [
       "                                                 title  score      id  \\\n",
       "0    US airlines would not need the bailout if they...   4857  ful324   \n",
       "1    Welcome to Black Monday of 2020! Market plunge...   4075  fjl7jd   \n",
       "2    Sen. Kelly Loeffler Dumped Millions in Stock A...   3306  flm21j   \n",
       "3    Mark Cuban: Every household in America should ...   3292  iyw4q1   \n",
       "4    This Monday is the Anniversary of the 1987 Bla...   2799  jdhwpt   \n",
       "..                                                 ...    ...     ...   \n",
       "992   How I Use Data to Analyze My Trading Performance    154  bif9p3   \n",
       "993  Analyzing Uber's 300+ page IPO filing (x-post ...    156  bd4mxv   \n",
       "994  Major US airlines coming back online after sys...    158  b81bhg   \n",
       "995  $LYFT - Lyft, Inc. and Uber Could Face Major H...    160  b7wndx   \n",
       "996  2019 has a chance at being a historic year for...    157  edbnvb   \n",
       "\n",
       "                                                   url  comms_num  \\\n",
       "0    https://www.reddit.com/r/StockMarket/comments/...        633   \n",
       "1                  https://i.redd.it/keozc3bah1n41.png        408   \n",
       "2    https://www.reddit.com/r/StockMarket/comments/...        364   \n",
       "3    https://www.reddit.com/r/StockMarket/comments/...        591   \n",
       "4                  https://i.redd.it/3rpxkpz5dvt51.jpg        334   \n",
       "..                                                 ...        ...   \n",
       "992  https://www.reddit.com/r/StockMarket/comments/...         19   \n",
       "993  https://www.reddit.com/r/StockMarket/comments/...         40   \n",
       "994  https://www.reddit.com/r/StockMarket/comments/...         13   \n",
       "995  https://www.reddit.com/r/StockMarket/comments/...         35   \n",
       "996  https://www.reddit.com/r/StockMarket/comments/...         61   \n",
       "\n",
       "          created                                               body  \\\n",
       "0    1.585993e+09  US airlines would not need the bailout if they...   \n",
       "1    1.584395e+09                                                      \n",
       "2    1.584696e+09  >The Senate’s newest member sold off seven fig...   \n",
       "3    1.600979e+09  https://www.cnbc.com/2020/09/23/mark-cuban-ame...   \n",
       "4    1.603063e+09                                                      \n",
       "..            ...                                                ...   \n",
       "992  1.556510e+09  Hey all. As a pretty active trader I thought p...   \n",
       "993  1.555289e+09  I made a [video](https://www.youtube.com/watch...   \n",
       "994  1.554149e+09  https://www.cnbc.com/2019/04/01/southwest-delt...   \n",
       "995  1.554117e+09  Lyft, Inc. (NASDAQ: LYFT) and Uber Could Face ...   \n",
       "996  1.576885e+09  https://www.cnbc.com/2019/12/19/stocks-have-a-...   \n",
       "\n",
       "     subreddit  \n",
       "0            1  \n",
       "1            1  \n",
       "2            1  \n",
       "3            1  \n",
       "4            1  \n",
       "..         ...  \n",
       "992          1  \n",
       "993          1  \n",
       "994          1  \n",
       "995          1  \n",
       "996          1  \n",
       "\n",
       "[997 rows x 8 columns]"
      ]
     },
     "execution_count": 148,
     "metadata": {},
     "output_type": "execute_result"
    }
   ],
   "source": [
    "stock_posts_df = pd.DataFrame(stock_posts)\n",
    "stock_posts_df['subreddit'] = 1\n",
    "stock_posts_df"
   ]
  },
  {
   "cell_type": "code",
   "execution_count": 149,
   "metadata": {
    "scrolled": true
   },
   "outputs": [
    {
     "data": {
      "text/html": [
       "<div>\n",
       "<style scoped>\n",
       "    .dataframe tbody tr th:only-of-type {\n",
       "        vertical-align: middle;\n",
       "    }\n",
       "\n",
       "    .dataframe tbody tr th {\n",
       "        vertical-align: top;\n",
       "    }\n",
       "\n",
       "    .dataframe thead th {\n",
       "        text-align: right;\n",
       "    }\n",
       "</style>\n",
       "<table border=\"1\" class=\"dataframe\">\n",
       "  <thead>\n",
       "    <tr style=\"text-align: right;\">\n",
       "      <th></th>\n",
       "      <th>title</th>\n",
       "      <th>url</th>\n",
       "      <th>body</th>\n",
       "      <th>subreddit</th>\n",
       "    </tr>\n",
       "  </thead>\n",
       "  <tbody>\n",
       "    <tr>\n",
       "      <th>0</th>\n",
       "      <td>Can mods ban wallstreetbets behaviour and talk?</td>\n",
       "      <td>https://www.reddit.com/r/options/comments/fvgb...</td>\n",
       "      <td>Recently i've been seeing a lot of \"you're a r...</td>\n",
       "      <td>0</td>\n",
       "    </tr>\n",
       "    <tr>\n",
       "      <th>1</th>\n",
       "      <td>I hated all the Apps for viewing Stock Reports...</td>\n",
       "      <td>https://v.redd.it/9wy5n1k9eg551</td>\n",
       "      <td></td>\n",
       "      <td>0</td>\n",
       "    </tr>\n",
       "    <tr>\n",
       "      <th>2</th>\n",
       "      <td>Any interest in a \"Visual Guide to the Greeks\"?</td>\n",
       "      <td>https://www.reddit.com/r/options/comments/gm28...</td>\n",
       "      <td>I get the impression a lot of people have a ha...</td>\n",
       "      <td>0</td>\n",
       "    </tr>\n",
       "    <tr>\n",
       "      <th>3</th>\n",
       "      <td>Hello fellow gambl- option traders! I’ve creat...</td>\n",
       "      <td>https://i.redd.it/ab0kdcocx8q41.jpg</td>\n",
       "      <td></td>\n",
       "      <td>0</td>\n",
       "    </tr>\n",
       "    <tr>\n",
       "      <th>4</th>\n",
       "      <td>My option play for last week. Once in a lifeti...</td>\n",
       "      <td>https://i.redd.it/6w93j3cd5rm41.jpg</td>\n",
       "      <td></td>\n",
       "      <td>0</td>\n",
       "    </tr>\n",
       "    <tr>\n",
       "      <th>...</th>\n",
       "      <td>...</td>\n",
       "      <td>...</td>\n",
       "      <td>...</td>\n",
       "      <td>...</td>\n",
       "    </tr>\n",
       "    <tr>\n",
       "      <th>1988</th>\n",
       "      <td>How I Use Data to Analyze My Trading Performance</td>\n",
       "      <td>https://www.reddit.com/r/StockMarket/comments/...</td>\n",
       "      <td>Hey all. As a pretty active trader I thought p...</td>\n",
       "      <td>1</td>\n",
       "    </tr>\n",
       "    <tr>\n",
       "      <th>1989</th>\n",
       "      <td>Analyzing Uber's 300+ page IPO filing (x-post ...</td>\n",
       "      <td>https://www.reddit.com/r/StockMarket/comments/...</td>\n",
       "      <td>I made a [video](https://www.youtube.com/watch...</td>\n",
       "      <td>1</td>\n",
       "    </tr>\n",
       "    <tr>\n",
       "      <th>1990</th>\n",
       "      <td>Major US airlines coming back online after sys...</td>\n",
       "      <td>https://www.reddit.com/r/StockMarket/comments/...</td>\n",
       "      <td>https://www.cnbc.com/2019/04/01/southwest-delt...</td>\n",
       "      <td>1</td>\n",
       "    </tr>\n",
       "    <tr>\n",
       "      <th>1991</th>\n",
       "      <td>$LYFT - Lyft, Inc. and Uber Could Face Major H...</td>\n",
       "      <td>https://www.reddit.com/r/StockMarket/comments/...</td>\n",
       "      <td>Lyft, Inc. (NASDAQ: LYFT) and Uber Could Face ...</td>\n",
       "      <td>1</td>\n",
       "    </tr>\n",
       "    <tr>\n",
       "      <th>1992</th>\n",
       "      <td>2019 has a chance at being a historic year for...</td>\n",
       "      <td>https://www.reddit.com/r/StockMarket/comments/...</td>\n",
       "      <td>https://www.cnbc.com/2019/12/19/stocks-have-a-...</td>\n",
       "      <td>1</td>\n",
       "    </tr>\n",
       "  </tbody>\n",
       "</table>\n",
       "<p>1993 rows × 4 columns</p>\n",
       "</div>"
      ],
      "text/plain": [
       "                                                  title  \\\n",
       "0       Can mods ban wallstreetbets behaviour and talk?   \n",
       "1     I hated all the Apps for viewing Stock Reports...   \n",
       "2       Any interest in a \"Visual Guide to the Greeks\"?   \n",
       "3     Hello fellow gambl- option traders! I’ve creat...   \n",
       "4     My option play for last week. Once in a lifeti...   \n",
       "...                                                 ...   \n",
       "1988   How I Use Data to Analyze My Trading Performance   \n",
       "1989  Analyzing Uber's 300+ page IPO filing (x-post ...   \n",
       "1990  Major US airlines coming back online after sys...   \n",
       "1991  $LYFT - Lyft, Inc. and Uber Could Face Major H...   \n",
       "1992  2019 has a chance at being a historic year for...   \n",
       "\n",
       "                                                    url  \\\n",
       "0     https://www.reddit.com/r/options/comments/fvgb...   \n",
       "1                       https://v.redd.it/9wy5n1k9eg551   \n",
       "2     https://www.reddit.com/r/options/comments/gm28...   \n",
       "3                   https://i.redd.it/ab0kdcocx8q41.jpg   \n",
       "4                   https://i.redd.it/6w93j3cd5rm41.jpg   \n",
       "...                                                 ...   \n",
       "1988  https://www.reddit.com/r/StockMarket/comments/...   \n",
       "1989  https://www.reddit.com/r/StockMarket/comments/...   \n",
       "1990  https://www.reddit.com/r/StockMarket/comments/...   \n",
       "1991  https://www.reddit.com/r/StockMarket/comments/...   \n",
       "1992  https://www.reddit.com/r/StockMarket/comments/...   \n",
       "\n",
       "                                                   body  subreddit  \n",
       "0     Recently i've been seeing a lot of \"you're a r...          0  \n",
       "1                                                                0  \n",
       "2     I get the impression a lot of people have a ha...          0  \n",
       "3                                                                0  \n",
       "4                                                                0  \n",
       "...                                                 ...        ...  \n",
       "1988  Hey all. As a pretty active trader I thought p...          1  \n",
       "1989  I made a [video](https://www.youtube.com/watch...          1  \n",
       "1990  https://www.cnbc.com/2019/04/01/southwest-delt...          1  \n",
       "1991  Lyft, Inc. (NASDAQ: LYFT) and Uber Could Face ...          1  \n",
       "1992  https://www.cnbc.com/2019/12/19/stocks-have-a-...          1  \n",
       "\n",
       "[1993 rows x 4 columns]"
      ]
     },
     "execution_count": 149,
     "metadata": {},
     "output_type": "execute_result"
    }
   ],
   "source": [
    "# Combining\n",
    "\n",
    "all_posts = options_posts_df.append(stock_posts_df)\n",
    "all_posts.reset_index(inplace = True)\n",
    "all_posts.drop(columns = ['index'], inplace = True)\n",
    "all_posts.drop(columns = ['id', 'score', 'comms_num', 'created'], inplace = True)\n",
    "all_posts"
   ]
  },
  {
   "cell_type": "code",
   "execution_count": 150,
   "metadata": {},
   "outputs": [],
   "source": [
    "# EDA"
   ]
  },
  {
   "cell_type": "code",
   "execution_count": 151,
   "metadata": {
    "scrolled": true
   },
   "outputs": [
    {
     "data": {
      "text/plain": [
       "title        0\n",
       "url          0\n",
       "body         0\n",
       "subreddit    0\n",
       "dtype: int64"
      ]
     },
     "execution_count": 151,
     "metadata": {},
     "output_type": "execute_result"
    }
   ],
   "source": [
    "all_posts.isnull().sum()"
   ]
  },
  {
   "cell_type": "code",
   "execution_count": 152,
   "metadata": {
    "scrolled": false
   },
   "outputs": [
    {
     "data": {
      "text/plain": [
       "1    997\n",
       "0    996\n",
       "Name: subreddit, dtype: int64"
      ]
     },
     "execution_count": 152,
     "metadata": {},
     "output_type": "execute_result"
    }
   ],
   "source": [
    "all_posts['subreddit'].value_counts()"
   ]
  },
  {
   "cell_type": "code",
   "execution_count": 153,
   "metadata": {},
   "outputs": [],
   "source": [
    "# Preprocessing \n",
    "\n",
    "# Set our X variable to be the title and selftext\n",
    "\n",
    "X = all_posts['body']\n",
    "\n",
    "# Set our y variable predictor to the the subreddit\n",
    "\n",
    "y = all_posts['subreddit']\n"
   ]
  },
  {
   "cell_type": "code",
   "execution_count": 154,
   "metadata": {},
   "outputs": [
    {
     "data": {
      "text/plain": [
       "1    0.500251\n",
       "0    0.499749\n",
       "Name: subreddit, dtype: float64"
      ]
     },
     "execution_count": 154,
     "metadata": {},
     "output_type": "execute_result"
    }
   ],
   "source": [
    "y.value_counts(normalize = True) # This is a classification problem"
   ]
  },
  {
   "cell_type": "code",
   "execution_count": 155,
   "metadata": {},
   "outputs": [
    {
     "data": {
      "text/plain": [
       "CountVectorizer()"
      ]
     },
     "execution_count": 155,
     "metadata": {},
     "output_type": "execute_result"
    }
   ],
   "source": [
    "# Instantiatiing and fitting the Count Vectorizer because the count vectorizer works well with text and will further advance\n",
    "# our model.\n",
    "\n",
    "cv = CountVectorizer()\n",
    "\n",
    "cv.fit(X)"
   ]
  },
  {
   "cell_type": "code",
   "execution_count": 156,
   "metadata": {},
   "outputs": [
    {
     "data": {
      "text/plain": [
       "['00',\n",
       " '000',\n",
       " '00001',\n",
       " '0000320193',\n",
       " '00003bb5190bc5ae0f4c1a3a16f0c78c974b1043',\n",
       " '000089924320003503',\n",
       " '000089924320003505',\n",
       " '000_profit_in_stock_picks',\n",
       " '001',\n",
       " '001242255',\n",
       " '002',\n",
       " '002006262',\n",
       " '00334',\n",
       " '004',\n",
       " '006',\n",
       " '0066620767',\n",
       " '007',\n",
       " '008',\n",
       " '009',\n",
       " '009b88eac323',\n",
       " '00am',\n",
       " '00e5a1b0fa2a41abf9807d047e59d3c5145b6015',\n",
       " '00pm',\n",
       " '01',\n",
       " '010',\n",
       " '011',\n",
       " '012',\n",
       " '013',\n",
       " '0137047681',\n",
       " '014',\n",
       " '015',\n",
       " '016',\n",
       " '017',\n",
       " '018',\n",
       " '019',\n",
       " '02',\n",
       " '020',\n",
       " '021',\n",
       " '021014',\n",
       " '022',\n",
       " '022620',\n",
       " '022720',\n",
       " '022820',\n",
       " '024',\n",
       " '024b',\n",
       " '025',\n",
       " '0254',\n",
       " '025p',\n",
       " '026',\n",
       " '027',\n",
       " '029',\n",
       " '03',\n",
       " '031',\n",
       " '031820',\n",
       " '031920',\n",
       " '032',\n",
       " '033',\n",
       " '034',\n",
       " '036',\n",
       " '037',\n",
       " '038',\n",
       " '039',\n",
       " '03b',\n",
       " '03d501e2cf1cc8288ce4a71a44d60129654d631b',\n",
       " '04',\n",
       " '040',\n",
       " '041',\n",
       " '042',\n",
       " '042215',\n",
       " '043',\n",
       " '044',\n",
       " '045',\n",
       " '046',\n",
       " '047',\n",
       " '0471215511',\n",
       " '048',\n",
       " '049',\n",
       " '0498',\n",
       " '04m',\n",
       " '05',\n",
       " '050',\n",
       " '050703674',\n",
       " '052',\n",
       " '055',\n",
       " '055139997',\n",
       " '057',\n",
       " '058',\n",
       " '059',\n",
       " '05gy8wnf',\n",
       " '05p',\n",
       " '05pm',\n",
       " '05puts',\n",
       " '06',\n",
       " '060',\n",
       " '060882c26d52ab5fa1299180734ee53eaf836135',\n",
       " '061',\n",
       " '062',\n",
       " '062520',\n",
       " '062620',\n",
       " '0627',\n",
       " '064',\n",
       " '065',\n",
       " '066',\n",
       " '067',\n",
       " '068',\n",
       " '068404a3d35f66d688e412ec1936c24082a97c02',\n",
       " '069',\n",
       " '07',\n",
       " '070',\n",
       " '070213',\n",
       " '071',\n",
       " '072',\n",
       " '073',\n",
       " '073609205',\n",
       " '075',\n",
       " '076',\n",
       " '078',\n",
       " '07_51_19',\n",
       " '08',\n",
       " '080',\n",
       " '081',\n",
       " '082',\n",
       " '0822uxs',\n",
       " '083',\n",
       " '084',\n",
       " '084852178',\n",
       " '084f1b311243b42d74ef2d447fb89bfccfb036bc',\n",
       " '085',\n",
       " '086',\n",
       " '089',\n",
       " '08am',\n",
       " '08d9b879e6326f3a90959a6c2e9087da82ab9c1c',\n",
       " '08fc6a6e486d0689a69b89635f724088',\n",
       " '08k',\n",
       " '09',\n",
       " '091',\n",
       " '091004',\n",
       " '091120',\n",
       " '092',\n",
       " '0929',\n",
       " '093',\n",
       " '095',\n",
       " '096',\n",
       " '097',\n",
       " '09a01665',\n",
       " '09m',\n",
       " '09q404',\n",
       " '0_day_iron_condor_on_spx',\n",
       " '0ahukewititgrte_iahxmwlqkhtzidqeqkeeccc0oaa',\n",
       " '0b',\n",
       " '0b37surgnkpqmrxv3cvzhaus5bek',\n",
       " '0b37surgnkpqmuuz6wlpqc014dzq',\n",
       " '0b37surgnkpqmyxj4d0vfy2nkbja',\n",
       " '0bli8od3y8951',\n",
       " '0cd1fb96ece54307e905e03131d337f19688642b',\n",
       " '0cu1cx3',\n",
       " '0d',\n",
       " '0dte',\n",
       " '0dtes',\n",
       " '0e48d218c916fb3f5fd5e2cfefa680a9e632aa19',\n",
       " '0f226af023a53ddf266b16f5dcc3ab3c3d7a38f0',\n",
       " '0f8e11fca465f98983287681f890b2ac',\n",
       " '0fce5c1c7700bc516502f662ee67ef42e6844ffe',\n",
       " '0ge72jt3ybw31',\n",
       " '0iy1noxz4xyouzqwux0mo3ehukivmirxgxjy140',\n",
       " '0o7ia7ye3at41',\n",
       " '0occxg9',\n",
       " '0oniu5qbpb951',\n",
       " '0s',\n",
       " '0zv7bg2bvw741',\n",
       " '0zvcea6',\n",
       " '10',\n",
       " '100',\n",
       " '1000',\n",
       " '10000',\n",
       " '100000',\n",
       " '100004160',\n",
       " '100200204',\n",
       " '100402747',\n",
       " '1005',\n",
       " '100519970',\n",
       " '1009215073708007425',\n",
       " '100c',\n",
       " '100dps',\n",
       " '100k',\n",
       " '100m',\n",
       " '100our',\n",
       " '100p',\n",
       " '100percentyolo_veqt',\n",
       " '100x',\n",
       " '101',\n",
       " '1010',\n",
       " '1011086',\n",
       " '1015',\n",
       " '1018724',\n",
       " '102',\n",
       " '102034083',\n",
       " '102315',\n",
       " '1024',\n",
       " '1024x631',\n",
       " '1029269968',\n",
       " '1029304936',\n",
       " '1029687430',\n",
       " '102c93fcea779247310bae56f99c5b4c824d4bc1',\n",
       " '102f9d6c2ae6',\n",
       " '103',\n",
       " '1030',\n",
       " '1031456',\n",
       " '103k',\n",
       " '104',\n",
       " '1042',\n",
       " '1043',\n",
       " '105',\n",
       " '1050',\n",
       " '10500',\n",
       " '1051',\n",
       " '1053533',\n",
       " '105k',\n",
       " '106',\n",
       " '1060',\n",
       " '1061',\n",
       " '107',\n",
       " '1070',\n",
       " '107k',\n",
       " '107zejs',\n",
       " '108',\n",
       " '1080',\n",
       " '1080584896651948034',\n",
       " '1082',\n",
       " '1088',\n",
       " '108k',\n",
       " '109',\n",
       " '1094',\n",
       " '10am',\n",
       " '10b5',\n",
       " '10bn',\n",
       " '10c',\n",
       " '10d24f35',\n",
       " '10k',\n",
       " '10k_to_100k_in_5_months_23k_in_deposits_and_67k',\n",
       " '10m',\n",
       " '10miles',\n",
       " '10mm',\n",
       " '10nm',\n",
       " '10p',\n",
       " '10percent',\n",
       " '10pm',\n",
       " '10pt',\n",
       " '10q',\n",
       " '10sec',\n",
       " '10th',\n",
       " '10tn',\n",
       " '10x',\n",
       " '11',\n",
       " '110',\n",
       " '1100',\n",
       " '110000878',\n",
       " '1104',\n",
       " '1105',\n",
       " '1109',\n",
       " '110c',\n",
       " '110k',\n",
       " '111',\n",
       " '1110',\n",
       " '1111',\n",
       " '1113',\n",
       " '1116',\n",
       " '112',\n",
       " '1122',\n",
       " '1123',\n",
       " '1124',\n",
       " '112k',\n",
       " '113',\n",
       " '114',\n",
       " '114312558',\n",
       " '1149340',\n",
       " '114b',\n",
       " '115',\n",
       " '11500',\n",
       " '115005656423',\n",
       " '1151',\n",
       " '115232905',\n",
       " '11552473593',\n",
       " '115632437',\n",
       " '11570680060',\n",
       " '11571334424',\n",
       " '11594746008',\n",
       " '11598970447',\n",
       " '11599234572',\n",
       " '11599836443',\n",
       " '11599989400',\n",
       " '115c',\n",
       " '116',\n",
       " '1160',\n",
       " '11602760302',\n",
       " '1162',\n",
       " '1165005927864512512',\n",
       " '117',\n",
       " '118',\n",
       " '1183',\n",
       " '1186458903908933632',\n",
       " '1188',\n",
       " '119',\n",
       " '1199',\n",
       " '11am',\n",
       " '11db',\n",
       " '11dcc564aa5f9154e4495213983eaf4d3bd16e7f',\n",
       " '11e8',\n",
       " '11ea',\n",
       " '11k',\n",
       " '11percent',\n",
       " '11point2b',\n",
       " '11th',\n",
       " '11x',\n",
       " '12',\n",
       " '120',\n",
       " '1200',\n",
       " '1202932702',\n",
       " '1206',\n",
       " '120b',\n",
       " '120c',\n",
       " '121',\n",
       " '1218',\n",
       " '122',\n",
       " '123',\n",
       " '1232',\n",
       " '1236',\n",
       " '1238',\n",
       " '124',\n",
       " '1240688520382926850',\n",
       " '1242',\n",
       " '1247681027469950977',\n",
       " '124k',\n",
       " '124m',\n",
       " '125',\n",
       " '1250066951281532932',\n",
       " '1258',\n",
       " '126',\n",
       " '1260',\n",
       " '1262',\n",
       " '1262930316253110276',\n",
       " '1267',\n",
       " '1267813',\n",
       " '1269',\n",
       " '126p',\n",
       " '127',\n",
       " '1270',\n",
       " '1275',\n",
       " '1277',\n",
       " '127p',\n",
       " '128',\n",
       " '12800',\n",
       " '1283501933907587073',\n",
       " '1285',\n",
       " '1288402693770231809',\n",
       " '128bn',\n",
       " '128k',\n",
       " '129',\n",
       " '1290',\n",
       " '1291873556683534342',\n",
       " '1297',\n",
       " '129m',\n",
       " '12_50_39',\n",
       " '12c',\n",
       " '12k',\n",
       " '12th',\n",
       " '12x',\n",
       " '13',\n",
       " '130',\n",
       " '1300',\n",
       " '130000',\n",
       " '1300834093425291265',\n",
       " '1302725084075810817',\n",
       " '130716705',\n",
       " '130c',\n",
       " '131',\n",
       " '1311683758735597569',\n",
       " '1311892190680014849',\n",
       " '1316424063053639683',\n",
       " '1316424223825571841',\n",
       " '1316433819780538368',\n",
       " '1316930116837146624',\n",
       " '131m',\n",
       " '132',\n",
       " '132602001',\n",
       " '132b',\n",
       " '133',\n",
       " '133000574',\n",
       " '1330402471',\n",
       " '13317',\n",
       " '133353144',\n",
       " '133k',\n",
       " '134',\n",
       " '13405',\n",
       " '1347',\n",
       " '134k',\n",
       " '135',\n",
       " '135b',\n",
       " '136',\n",
       " '1361310af38164ecd6aec03748fd817fefa40799',\n",
       " '1365vlm',\n",
       " '136k',\n",
       " '137',\n",
       " '137m',\n",
       " '138',\n",
       " '139',\n",
       " '13_16_24',\n",
       " '13am',\n",
       " '13azsqsoac851',\n",
       " '13b',\n",
       " '13c',\n",
       " '13d',\n",
       " '13f',\n",
       " '13k',\n",
       " '13m',\n",
       " '13mm',\n",
       " '13s',\n",
       " '13th',\n",
       " '13x',\n",
       " '14',\n",
       " '140',\n",
       " '1400',\n",
       " '1400x',\n",
       " '1402',\n",
       " '140837346',\n",
       " '140848034',\n",
       " '140b',\n",
       " '140c',\n",
       " '140k',\n",
       " '140p',\n",
       " '141',\n",
       " '1414900959',\n",
       " '141904342',\n",
       " '142',\n",
       " '1425045',\n",
       " '1429',\n",
       " '143',\n",
       " '1434',\n",
       " '143940395',\n",
       " '144',\n",
       " '145',\n",
       " '145407552',\n",
       " '146',\n",
       " '1460',\n",
       " '147',\n",
       " '1474',\n",
       " '1475',\n",
       " '14764873001b12a42a05641608046dbafb54cede',\n",
       " '148',\n",
       " '1480',\n",
       " '1484',\n",
       " '148k',\n",
       " '149',\n",
       " '14956',\n",
       " '1495oic',\n",
       " '1499',\n",
       " '14c',\n",
       " '14k',\n",
       " '14nm',\n",
       " '14pm',\n",
       " '14th',\n",
       " '14tn',\n",
       " '15',\n",
       " '150',\n",
       " '1500',\n",
       " '1504',\n",
       " '1506',\n",
       " '150k',\n",
       " '150m',\n",
       " '150p',\n",
       " '151',\n",
       " '151755274',\n",
       " '152',\n",
       " '152338',\n",
       " '1528',\n",
       " '15290369',\n",
       " '153',\n",
       " '15365601',\n",
       " '1537',\n",
       " '153736237',\n",
       " '15385',\n",
       " '154',\n",
       " '1542',\n",
       " '1544',\n",
       " '1545605d',\n",
       " '154630023',\n",
       " '155',\n",
       " '1550',\n",
       " '156',\n",
       " '1561489450378',\n",
       " '1565',\n",
       " '1566491938000',\n",
       " '157',\n",
       " '15728916',\n",
       " '1574',\n",
       " '158',\n",
       " '1585805586640',\n",
       " '1586',\n",
       " '1587081600',\n",
       " '1588265277511',\n",
       " '1588349151313',\n",
       " '159',\n",
       " '1590',\n",
       " '1596472383',\n",
       " '15967021',\n",
       " '1597968000',\n",
       " '15am',\n",
       " '15b',\n",
       " '15bac15b7788',\n",
       " '15c',\n",
       " '15k',\n",
       " '15m',\n",
       " '15pm',\n",
       " '15th',\n",
       " '15x',\n",
       " '16',\n",
       " '160',\n",
       " '1600',\n",
       " '1607',\n",
       " '16075',\n",
       " '160k',\n",
       " '161',\n",
       " '1610c',\n",
       " '161154581',\n",
       " '161839582',\n",
       " '162',\n",
       " '162000938',\n",
       " '1625',\n",
       " '1627',\n",
       " '1628980',\n",
       " '163',\n",
       " '1630',\n",
       " '1635',\n",
       " '1638',\n",
       " '164',\n",
       " '1640',\n",
       " '165',\n",
       " '1650',\n",
       " '165237352',\n",
       " '1658',\n",
       " '1658a25e46ee264ea96f09cf0c746d19d49bfcbb',\n",
       " '165998',\n",
       " '165c',\n",
       " '165k',\n",
       " '166',\n",
       " '167',\n",
       " '1671',\n",
       " '1674',\n",
       " '1677',\n",
       " '168',\n",
       " '1687',\n",
       " '169',\n",
       " '1697',\n",
       " '16c',\n",
       " '16db2e5a35eb7ff389839018638a727137774444',\n",
       " '16k',\n",
       " '16m',\n",
       " '16th',\n",
       " '16yf5b',\n",
       " '17',\n",
       " '170',\n",
       " '1700',\n",
       " '17000',\n",
       " '1705',\n",
       " '170c',\n",
       " '170k',\n",
       " '171',\n",
       " '1710',\n",
       " '172',\n",
       " '173',\n",
       " '174',\n",
       " '1740',\n",
       " '1742',\n",
       " '1745',\n",
       " '175',\n",
       " '1750',\n",
       " '175c',\n",
       " '175p',\n",
       " '176',\n",
       " '1760',\n",
       " '1760c',\n",
       " '1766',\n",
       " '1767',\n",
       " '1768',\n",
       " '1769',\n",
       " '176m',\n",
       " '177',\n",
       " '1770',\n",
       " '1775',\n",
       " '177567',\n",
       " '1777',\n",
       " '177986913773',\n",
       " '177k',\n",
       " '177s',\n",
       " '178',\n",
       " '1780',\n",
       " '1788',\n",
       " '179',\n",
       " '1794',\n",
       " '17957',\n",
       " '17k',\n",
       " '17th',\n",
       " '17yr',\n",
       " '18',\n",
       " '180',\n",
       " '1800',\n",
       " '1800s',\n",
       " '180p',\n",
       " '1810',\n",
       " '1816',\n",
       " '1818',\n",
       " '182',\n",
       " '1820',\n",
       " '1822',\n",
       " '1824',\n",
       " '1827',\n",
       " '183',\n",
       " '184',\n",
       " '184529879',\n",
       " '1847',\n",
       " '185',\n",
       " '185822086',\n",
       " '185p',\n",
       " '186',\n",
       " '1868',\n",
       " '1869',\n",
       " '187',\n",
       " '1871',\n",
       " '1873',\n",
       " '1881',\n",
       " '1887344341',\n",
       " '189',\n",
       " '1890',\n",
       " '18cents',\n",
       " '18dps',\n",
       " '18r2rcvtqtg',\n",
       " '18th',\n",
       " '18x',\n",
       " '19',\n",
       " '190',\n",
       " '1900',\n",
       " '19000',\n",
       " '1900s',\n",
       " '190c',\n",
       " '190k',\n",
       " '191',\n",
       " '1910',\n",
       " '1913',\n",
       " '1918',\n",
       " '192',\n",
       " '1920',\n",
       " '192035782',\n",
       " '1921',\n",
       " '19226b3eef1e29bd04e79125edcfa76202bf1e83',\n",
       " '1925',\n",
       " '1926',\n",
       " '1928',\n",
       " '1929',\n",
       " '193',\n",
       " '1930',\n",
       " '1930s',\n",
       " '1933',\n",
       " '193359643',\n",
       " '1934',\n",
       " '193f94b6f27de61a47810711f9d436e5bf5d06a3',\n",
       " '194',\n",
       " '1940s',\n",
       " '1942',\n",
       " '19433',\n",
       " '1946',\n",
       " '1948',\n",
       " '195',\n",
       " '1950',\n",
       " '1950c',\n",
       " '1950s',\n",
       " '1952',\n",
       " '1953',\n",
       " '1954',\n",
       " '1955',\n",
       " '195541040',\n",
       " '1956',\n",
       " '1957',\n",
       " '1958',\n",
       " '195c',\n",
       " '195k',\n",
       " '196',\n",
       " '1960',\n",
       " '1961',\n",
       " '1962',\n",
       " '1963',\n",
       " '1966',\n",
       " '1967',\n",
       " '1968',\n",
       " '1969',\n",
       " '196k',\n",
       " '197',\n",
       " '1970',\n",
       " '1970s',\n",
       " '1971',\n",
       " '1972',\n",
       " '1973',\n",
       " '1974',\n",
       " '1978',\n",
       " '198',\n",
       " '1980',\n",
       " '1980s',\n",
       " '1981',\n",
       " '1982',\n",
       " '1983',\n",
       " '1986',\n",
       " '1987',\n",
       " '1988',\n",
       " '1989',\n",
       " '199',\n",
       " '1990',\n",
       " '1990s',\n",
       " '1991',\n",
       " '1992',\n",
       " '1993',\n",
       " '1995',\n",
       " '19957',\n",
       " '1996',\n",
       " '1997',\n",
       " '1998',\n",
       " '1999',\n",
       " '19_pandemic_in_brazil',\n",
       " '19a74d1cbf750af6d80ab2aaa551e476e5f980ed',\n",
       " '19b',\n",
       " '19c',\n",
       " '19k',\n",
       " '19th',\n",
       " '1a1033d4f1a286ae0bb5d104a4b50cb162a2e283',\n",
       " '1aa266e8dc9431015729a92f39e2b320486fbf9c',\n",
       " '1ab1cfb2716375d2df2e6e3fbb360e1ce446c4b4',\n",
       " '1au3ypfz8a6tgmkvxldw',\n",
       " '1b',\n",
       " '1bn',\n",
       " '1c5chfa_enus874us874',\n",
       " '1c67b8e853503c3037f7f02ae10f4b5379f8f78b',\n",
       " '1cwegao',\n",
       " '1d',\n",
       " '1drv',\n",
       " '1dte',\n",
       " '1dufjnnnrcotglt7omt7ygyffdoasxft_',\n",
       " '1e0jbpihlig31',\n",
       " '1eb2621dfb91c6e1e72b6380464e48cf',\n",
       " '1ef60a210c281a344c6b1e21d5782bf2878d5480',\n",
       " '1f268b8057e9bb481a41d2fa87215bd52f2820fe',\n",
       " '1f810d26d65dcf94e103e0d31cf86d90edb5bff0',\n",
       " '1f86ba3e',\n",
       " '1f9lcjvbbif',\n",
       " '1f9lcjvbbif_evmfu_x0sisjyrj7x1mezk3mtpxmesp0',\n",
       " '1ft2p9jkxmnyzffxeol9qwbsqaqztwyi',\n",
       " '1gbps',\n",
       " '1gi1zh3',\n",
       " '1gyia0nj4iwuc',\n",
       " '1h',\n",
       " '1hr',\n",
       " '1hrjcbrcqjz54ivza2d2sj',\n",
       " '1k',\n",
       " '1kkom63iho1qalanodzv1pwdfouaor',\n",
       " '1kvojeb1x1jdcmblt',\n",
       " '1lcuh7z',\n",
       " '1m',\n",
       " '1mfpohvwu',\n",
       " '1mm',\n",
       " '1mo',\n",
       " '1ms',\n",
       " '1nxvik3rb0dgs7rkjiqaze1hd13jbdtamzyhg2g8r1',\n",
       " '1nxvik3rb0dgs7rkjiqaze1hd13jbdtamzyhg2g8r1_8',\n",
       " '1obdjpkecjm51',\n",
       " '1od_kssefeov8wcqt2wgjswnyzlfku2il',\n",
       " '1qxdpdek6oa51',\n",
       " '1r0nyman',\n",
       " '1sd',\n",
       " '1st',\n",
       " '1swulwerrvl9xttn4mmvp2ninlqvw',\n",
       " '1t',\n",
       " '1tn',\n",
       " '1trillion',\n",
       " '1uskvtaar0y21',\n",
       " '1v3xpbc79ayuxtn6qxtajps2krlay7b',\n",
       " '1v811r7oac851',\n",
       " '1w',\n",
       " '1x',\n",
       " '1x2k',\n",
       " '1ykbro4jeia51',\n",
       " '20',\n",
       " '200',\n",
       " '2000',\n",
       " '2000c',\n",
       " '2000s',\n",
       " '2001',\n",
       " '2002',\n",
       " '2003',\n",
       " '2004',\n",
       " '2005',\n",
       " '2006',\n",
       " '2007',\n",
       " '2008',\n",
       " '2009',\n",
       " '200c',\n",
       " '200d',\n",
       " '200ish',\n",
       " '200k',\n",
       " '201',\n",
       " '2010',\n",
       " '2011',\n",
       " '2012',\n",
       " '2013',\n",
       " '20130821',\n",
       " '2014',\n",
       " '2015',\n",
       " '2016',\n",
       " '2017',\n",
       " '2018',\n",
       " '2019',\n",
       " '201902',\n",
       " '20190430',\n",
       " '20191002005817',\n",
       " '202',\n",
       " '2020',\n",
       " '20200627',\n",
       " '202007',\n",
       " '202011',\n",
       " '2020crash',\n",
       " '2020s',\n",
       " '2020sbear',\n",
       " '2021',\n",
       " '2022',\n",
       " '2023',\n",
       " '2024',\n",
       " '2025',\n",
       " '2026',\n",
       " '202k',\n",
       " '203',\n",
       " '2030',\n",
       " '203026342',\n",
       " '2032',\n",
       " '2034',\n",
       " '203514688',\n",
       " '2038',\n",
       " '204',\n",
       " '2040',\n",
       " '2042',\n",
       " '2048',\n",
       " '205',\n",
       " '2050',\n",
       " '20502',\n",
       " '2050c',\n",
       " '2051cac1bd0a153d93eca511260d4809076acf25',\n",
       " '2057507',\n",
       " '206',\n",
       " '207',\n",
       " '2075',\n",
       " '2076760',\n",
       " '208',\n",
       " '20a',\n",
       " '20b',\n",
       " '20bear',\n",
       " '20buffett',\n",
       " '20but',\n",
       " '20c',\n",
       " '20calls',\n",
       " '20cents',\n",
       " '20companies',\n",
       " '20covid',\n",
       " '20d',\n",
       " '20d8fcc0c11af48bb203fedcf120d3ef4fcd03e6',\n",
       " '20ever',\n",
       " '20exchanges',\n",
       " '20f',\n",
       " '20he',\n",
       " '20is',\n",
       " '20ivolatility',\n",
       " '20k',\n",
       " '20launching',\n",
       " '20like',\n",
       " '20looks',\n",
       " '20ma',\n",
       " '20magazine',\n",
       " '20mentally',\n",
       " '20new',\n",
       " '20nm',\n",
       " '20on',\n",
       " '20pandemic',\n",
       " '20pm',\n",
       " '20s',\n",
       " '20services',\n",
       " '20steenbarger',\n",
       " '20stock',\n",
       " '20stories',\n",
       " '20teddy',\n",
       " '20th',\n",
       " '20the',\n",
       " '20tough',\n",
       " '20u',\n",
       " '20update',\n",
       " '20warren',\n",
       " '20x',\n",
       " '20york',\n",
       " '21',\n",
       " '210',\n",
       " '2100',\n",
       " '210643438',\n",
       " '210p',\n",
       " '211',\n",
       " '212',\n",
       " '2120',\n",
       " '21202900',\n",
       " '2124',\n",
       " '212431667',\n",
       " '21243557',\n",
       " '21251899',\n",
       " '213',\n",
       " '2130',\n",
       " '21317266',\n",
       " '21363507',\n",
       " '213958621',\n",
       " '214',\n",
       " '215',\n",
       " '21508964',\n",
       " '2158',\n",
       " '215p',\n",
       " '216',\n",
       " '2164',\n",
       " '2166',\n",
       " '217',\n",
       " '2175',\n",
       " '218',\n",
       " '2184859',\n",
       " '219',\n",
       " '2191',\n",
       " '21aug20',\n",
       " '21e',\n",
       " '21eb0eb8cb9d',\n",
       " '21k',\n",
       " '21st',\n",
       " '21x',\n",
       " '22',\n",
       " '220',\n",
       " '2200',\n",
       " '220b',\n",
       " '220s',\n",
       " '221',\n",
       " '2210',\n",
       " '2212',\n",
       " '221300556',\n",
       " '2216',\n",
       " '222',\n",
       " '2228',\n",
       " '223',\n",
       " '2237',\n",
       " '224',\n",
       " '2248',\n",
       " '225',\n",
       " '2250',\n",
       " '225300345',\n",
       " '225_w07banerjee',\n",
       " '225p',\n",
       " '226',\n",
       " '22687',\n",
       " '227',\n",
       " '22739',\n",
       " '228',\n",
       " '2282',\n",
       " '2284',\n",
       " '229',\n",
       " '22k',\n",
       " '22nd',\n",
       " '22q',\n",
       " '22th',\n",
       " '23',\n",
       " '230',\n",
       " '2300',\n",
       " '230p',\n",
       " '231',\n",
       " '2314525',\n",
       " '232',\n",
       " '233',\n",
       " '234',\n",
       " '235',\n",
       " '235p',\n",
       " '236',\n",
       " '237',\n",
       " '2379',\n",
       " '238',\n",
       " '239',\n",
       " '2390',\n",
       " '2398',\n",
       " '23abtfd',\n",
       " '23b',\n",
       " '23ed08fd804cc800a0389983477a0639bca37ff0',\n",
       " '23k',\n",
       " '23mm',\n",
       " '23rd',\n",
       " '24',\n",
       " '240',\n",
       " '240c',\n",
       " '240p',\n",
       " ...]"
      ]
     },
     "execution_count": 156,
     "metadata": {},
     "output_type": "execute_result"
    }
   ],
   "source": [
    "# Transform the Data\n",
    "\n",
    "X_transform = cv.transform(X)\n",
    "cv.get_feature_names()"
   ]
  },
  {
   "cell_type": "code",
   "execution_count": 157,
   "metadata": {},
   "outputs": [
    {
     "data": {
      "text/plain": [
       "Text(0.5, 1.0, 'Highest Word Counts')"
      ]
     },
     "execution_count": 157,
     "metadata": {},
     "output_type": "execute_result"
    },
    {
     "data": {
      "image/png": "[encoded data removed]",
      "text/plain": [
       "<Figure size 432x288 with 1 Axes>"
      ]
     },
     "metadata": {
      "needs_background": "light"
     },
     "output_type": "display_data"
    }
   ],
   "source": [
    "X_transform_df = pd.DataFrame(X_transform.todense(), \n",
    "                          columns=cv.get_feature_names())\n",
    "\n",
    "bar_graph_high = X_transform_df.sum().sort_values(ascending=False).head(15).plot(kind='barh');\n",
    "plt.xlabel('Amount')\n",
    "plt.ylabel('Word')\n",
    "plt.title('Highest Word Counts')\n",
    "\n",
    "# This array provides the highest used words within all the posts."
   ]
  },
  {
   "cell_type": "code",
   "execution_count": 158,
   "metadata": {
    "scrolled": true
   },
   "outputs": [
    {
     "data": {
      "text/plain": [
       "<matplotlib.axes._subplots.AxesSubplot at 0x1dabf4ebeb0>"
      ]
     },
     "execution_count": 158,
     "metadata": {},
     "output_type": "execute_result"
    },
    {
     "data": {
      "image/png": "[encoded data removed]",
      "text/plain": [
       "<Figure size 432x288 with 1 Axes>"
      ]
     },
     "metadata": {
      "needs_background": "light"
     },
     "output_type": "display_data"
    }
   ],
   "source": [
    "bar_graph_low = X_transform_df.sum().sort_values(ascending=True).head(15).plot(kind='barh');\n",
    "plt.xlabel('Amount')\n",
    "plt.ylabel('Word')\n",
    "plt.title('Lowest Word Counts')\n",
    "bar_graph_low\n",
    "\n",
    "# This array provides the lowest used words within all the posts."
   ]
  },
  {
   "cell_type": "code",
   "execution_count": 159,
   "metadata": {},
   "outputs": [],
   "source": [
    "# Based off the graphs that were created, it would be a little difficult to determine if the \n",
    "# most used words throughout the reddit posts would correlate to the subreddit.\n",
    "\n",
    "# Another technique we can use to improve our EDA exploration would be stop word removal."
   ]
  },
  {
   "cell_type": "code",
   "execution_count": 160,
   "metadata": {},
   "outputs": [],
   "source": [
    "relevant_words = CountVectorizer(stop_words='english')\n",
    "relevant_words.fit(X)\n",
    "X_transform_exp = relevant_words.transform(X)"
   ]
  },
  {
   "cell_type": "code",
   "execution_count": 161,
   "metadata": {},
   "outputs": [
    {
     "data": {
      "text/plain": [
       "Text(0.5, 1.0, 'Highest Word Counts with StopWords')"
      ]
     },
     "execution_count": 161,
     "metadata": {},
     "output_type": "execute_result"
    },
    {
     "data": {
      "image/png": "[encoded data removed]",
      "text/plain": [
       "<Figure size 432x288 with 1 Axes>"
      ]
     },
     "metadata": {
      "needs_background": "light"
     },
     "output_type": "display_data"
    }
   ],
   "source": [
    "X_transform_exp_df = pd.DataFrame(X_transform_exp.todense(), \n",
    "                          columns=relevant_words.get_feature_names())\n",
    "\n",
    "bar_graph_high = X_transform_exp_df.sum().sort_values(ascending=False).head(15).plot(kind='barh');\n",
    "plt.xlabel('Amount')\n",
    "plt.ylabel('Word')\n",
    "plt.title('Highest Word Counts with StopWords')\n",
    "\n"
   ]
  },
  {
   "cell_type": "code",
   "execution_count": 187,
   "metadata": {},
   "outputs": [],
   "source": [
    "# Setting up our Pipeline and Parameters\n",
    "\n",
    "pipe = Pipeline([\n",
    "    ('cv', CountVectorizer(stop_words='english')),\n",
    "    ('nb', MultinomialNB())\n",
    "])\n",
    "\n",
    "\n",
    "pipe_params = {\n",
    "    'cv__max_features': [2000, 3000, 4000, 5000],\n",
    "    'cv__min_df': [2, 3],\n",
    "    'cv__max_df': [.9, .95],\n",
    "    'cv__ngram_range': [(1, 1), (1, 2)]\n",
    "}"
   ]
  },
  {
   "cell_type": "code",
   "execution_count": 188,
   "metadata": {},
   "outputs": [],
   "source": [
    "# Fitting into our GridSearch\n",
    "\n",
    "gs = GridSearchCV(pipe, # what object are we optimizing?\n",
    "                  pipe_params, # what parameters values are we searching?\n",
    "                  cv = 5) # 5-fold cross-validation."
   ]
  },
  {
   "cell_type": "code",
   "execution_count": 189,
   "metadata": {},
   "outputs": [],
   "source": [
    "# Split our data\n",
    "\n",
    "(X_train, X_test, y_train, y_test) = train_test_split(X, y, random_state = 42)"
   ]
  },
  {
   "cell_type": "code",
   "execution_count": 190,
   "metadata": {
    "scrolled": false
   },
   "outputs": [
    {
     "data": {
      "text/plain": [
       "GridSearchCV(cv=5,\n",
       "             estimator=Pipeline(steps=[('cv',\n",
       "                                        CountVectorizer(stop_words='english')),\n",
       "                                       ('nb', MultinomialNB())]),\n",
       "             param_grid={'cv__max_df': [0.9, 0.95],\n",
       "                         'cv__max_features': [2000, 3000, 4000, 5000],\n",
       "                         'cv__min_df': [2, 3],\n",
       "                         'cv__ngram_range': [(1, 1), (1, 2)]})"
      ]
     },
     "execution_count": 190,
     "metadata": {},
     "output_type": "execute_result"
    }
   ],
   "source": [
    "# Fit our model through gridsearch which combines our instantiators including CountVectorization and MultinomialNB\n",
    "\n",
    "gs.fit(X_train, y_train)\n"
   ]
  },
  {
   "cell_type": "code",
   "execution_count": null,
   "metadata": {},
   "outputs": [],
   "source": []
  },
  {
   "cell_type": "code",
   "execution_count": 170,
   "metadata": {},
   "outputs": [
    {
     "data": {
      "text/plain": [
       "0.7998661311914324"
      ]
     },
     "execution_count": 170,
     "metadata": {},
     "output_type": "execute_result"
    }
   ],
   "source": [
    "acc_0 = gs.score(X_train, y_train)\n",
    "acc_0"
   ]
  },
  {
   "cell_type": "code",
   "execution_count": 167,
   "metadata": {},
   "outputs": [
    {
     "data": {
      "text/plain": [
       "0.8036072144288577"
      ]
     },
     "execution_count": 167,
     "metadata": {},
     "output_type": "execute_result"
    }
   ],
   "source": [
    "gs.score(X_test, y_test) "
   ]
  },
  {
   "cell_type": "code",
   "execution_count": 168,
   "metadata": {},
   "outputs": [
    {
     "data": {
      "text/plain": [
       "0.7744427734506522"
      ]
     },
     "execution_count": 168,
     "metadata": {},
     "output_type": "execute_result"
    }
   ],
   "source": [
    "gs.best_score_"
   ]
  },
  {
   "cell_type": "code",
   "execution_count": 33,
   "metadata": {},
   "outputs": [],
   "source": [
    "# From the scores after conducting our grid search, we see that the best accuracy is around .8 which\n",
    "# indicates the model could potentially be a good indicator to predict the original subreddit."
   ]
  },
  {
   "cell_type": "code",
   "execution_count": 34,
   "metadata": {},
   "outputs": [],
   "source": [
    "preds = gs.predict(X_test)\n"
   ]
  },
  {
   "cell_type": "code",
   "execution_count": 35,
   "metadata": {},
   "outputs": [],
   "source": [
    "# Plot the confusion matrix to view classification metrics"
   ]
  },
  {
   "cell_type": "code",
   "execution_count": 36,
   "metadata": {},
   "outputs": [],
   "source": [
    "tn, fp, fn, tp = confusion_matrix(y_test, preds).ravel()"
   ]
  },
  {
   "cell_type": "code",
   "execution_count": 84,
   "metadata": {},
   "outputs": [
    {
     "data": {
      "text/plain": [
       "Text(0.5, 1.0, 'Original Model')"
      ]
     },
     "execution_count": 84,
     "metadata": {},
     "output_type": "execute_result"
    },
    {
     "data": {
      "image/png": "[encoded data removed]",
      "text/plain": [
       "<Figure size 432x288 with 2 Axes>"
      ]
     },
     "metadata": {
      "needs_background": "light"
     },
     "output_type": "display_data"
    }
   ],
   "source": [
    "plot_confusion_matrix(gs, X_test, y_test, cmap='Blues', values_format='d');\n",
    "plt.title(\"Original Model\")"
   ]
  },
  {
   "cell_type": "code",
   "execution_count": 197,
   "metadata": {},
   "outputs": [
    {
     "data": {
      "text/plain": [
       "0.9989983395655871"
      ]
     },
     "execution_count": 197,
     "metadata": {},
     "output_type": "execute_result"
    }
   ],
   "source": [
    "# Specificity\n",
    "\n",
    "ls = tn / (tn + fp)\n",
    "ls"
   ]
  },
  {
   "cell_type": "code",
   "execution_count": 86,
   "metadata": {},
   "outputs": [
    {
     "data": {
      "text/plain": [
       "0.7442326980942828"
      ]
     },
     "execution_count": 86,
     "metadata": {},
     "output_type": "execute_result"
    }
   ],
   "source": [
    "# Sensitivity\n",
    "\n",
    "os = tp / (tp + fn)\n",
    "os"
   ]
  },
  {
   "cell_type": "code",
   "execution_count": 180,
   "metadata": {},
   "outputs": [
    {
     "data": {
      "text/plain": [
       "0.9986559139784946"
      ]
     },
     "execution_count": 180,
     "metadata": {},
     "output_type": "execute_result"
    }
   ],
   "source": [
    "# Precision\n",
    "\n",
    "op = tp / (tp + fp)\n",
    "op"
   ]
  },
  {
   "cell_type": "code",
   "execution_count": 128,
   "metadata": {},
   "outputs": [
    {
     "data": {
      "text/plain": [
       "0.8716148445336008"
      ]
     },
     "execution_count": 128,
     "metadata": {},
     "output_type": "execute_result"
    }
   ],
   "source": [
    "# Accuracy\n",
    "\n",
    "(tn + tp) / (tn + fp + fn + tp)\n"
   ]
  },
  {
   "cell_type": "code",
   "execution_count": 89,
   "metadata": {},
   "outputs": [
    {
     "data": {
      "text/plain": [
       "0.12838515546639917"
      ]
     },
     "execution_count": 89,
     "metadata": {},
     "output_type": "execute_result"
    }
   ],
   "source": [
    "# Misclassifcation Rate\n",
    "\n",
    "1 - acc"
   ]
  },
  {
   "cell_type": "code",
   "execution_count": 200,
   "metadata": {},
   "outputs": [
    {
     "name": "stdout",
     "output_type": "stream",
     "text": [
      "The precision score is 0.9986559139784946\n",
      "The sensitivity score is  0.7442326980942828\n"
     ]
    }
   ],
   "source": [
    "\n",
    "\n",
    "print(\"The precision score is\", tp / (tp + fp))\n",
    "\n",
    "print(\"The sensitivity score is \", tp / (tp + fn))\n",
    "\n",
    "# The sensitivity score is not too high.\n"
   ]
  },
  {
   "cell_type": "code",
   "execution_count": 91,
   "metadata": {},
   "outputs": [],
   "source": [
    "# Using a random forest classifier\n",
    "\n",
    "rf = RandomForestClassifier()"
   ]
  },
  {
   "cell_type": "code",
   "execution_count": 92,
   "metadata": {},
   "outputs": [],
   "source": [
    "# Split our data\n",
    "\n",
    "(X_train, X_test, y_train, y_test) = train_test_split(X, y, random_state = 42)\n",
    "\n",
    "X_train = cv.transform(X_train)"
   ]
  },
  {
   "cell_type": "code",
   "execution_count": 93,
   "metadata": {},
   "outputs": [],
   "source": [
    "params = {\n",
    "    'n_estimators' : [75, 100, 125],\n",
    "    'max_depth': [None, 3, 4],\n",
    "    'max_features': ['auto', None]\n",
    "}"
   ]
  },
  {
   "cell_type": "code",
   "execution_count": 94,
   "metadata": {},
   "outputs": [],
   "source": [
    "gs_1 = GridSearchCV(rf, params)"
   ]
  },
  {
   "cell_type": "code",
   "execution_count": 95,
   "metadata": {
    "scrolled": true
   },
   "outputs": [
    {
     "data": {
      "text/plain": [
       "GridSearchCV(estimator=RandomForestClassifier(),\n",
       "             param_grid={'max_depth': [None, 3, 4],\n",
       "                         'max_features': ['auto', None],\n",
       "                         'n_estimators': [75, 100, 125]})"
      ]
     },
     "execution_count": 95,
     "metadata": {},
     "output_type": "execute_result"
    }
   ],
   "source": [
    "gs_1.fit(X_transform, y) # This takes forever to run"
   ]
  },
  {
   "cell_type": "code",
   "execution_count": null,
   "metadata": {},
   "outputs": [],
   "source": []
  },
  {
   "cell_type": "code",
   "execution_count": 96,
   "metadata": {},
   "outputs": [
    {
     "data": {
      "text/plain": [
       "0.7742005768189317"
      ]
     },
     "execution_count": 96,
     "metadata": {},
     "output_type": "execute_result"
    }
   ],
   "source": [
    "gs_1.best_score_ \n",
    "\n",
    "# From the score, we see that the RandomForestClassifier provides a better accuracy score than using the CountVectorizer."
   ]
  },
  {
   "cell_type": "code",
   "execution_count": 97,
   "metadata": {},
   "outputs": [
    {
     "data": {
      "text/plain": [
       "0.8720521826392373"
      ]
     },
     "execution_count": 97,
     "metadata": {},
     "output_type": "execute_result"
    }
   ],
   "source": [
    "gs_1.score(X_transform, y)"
   ]
  },
  {
   "cell_type": "code",
   "execution_count": 98,
   "metadata": {},
   "outputs": [],
   "source": [
    "preds_1 = gs_1.predict(X_transform)"
   ]
  },
  {
   "cell_type": "code",
   "execution_count": 99,
   "metadata": {},
   "outputs": [],
   "source": [
    "# Classification Metrics for Random Forest\n",
    "tn, fp, fn, tp = confusion_matrix(y, preds_1).ravel()"
   ]
  },
  {
   "cell_type": "code",
   "execution_count": 100,
   "metadata": {},
   "outputs": [
    {
     "data": {
      "text/plain": [
       "Text(0.5, 1.0, 'Random Classifier Model')"
      ]
     },
     "execution_count": 100,
     "metadata": {},
     "output_type": "execute_result"
    },
    {
     "data": {
      "image/png": "[encoded data removed]",
      "text/plain": [
       "<Figure size 432x288 with 2 Axes>"
      ]
     },
     "metadata": {
      "needs_background": "light"
     },
     "output_type": "display_data"
    }
   ],
   "source": [
    "# Confusion Matrix\n",
    "\n",
    "plot_confusion_matrix(gs_1, X_train, y_train, cmap='Blues', values_format='d');\n",
    "plt.title(\"Random Classifier Model\")"
   ]
  },
  {
   "cell_type": "code",
   "execution_count": 111,
   "metadata": {},
   "outputs": [
    {
     "data": {
      "text/plain": [
       "0.9989969909729187"
      ]
     },
     "execution_count": 111,
     "metadata": {},
     "output_type": "execute_result"
    }
   ],
   "source": [
    "# Specificity\n",
    "\n",
    "fsp = tn / (tn + fp)\n",
    "fsp"
   ]
  },
  {
   "cell_type": "code",
   "execution_count": 112,
   "metadata": {},
   "outputs": [
    {
     "data": {
      "text/plain": [
       "0.7442326980942828"
      ]
     },
     "execution_count": 112,
     "metadata": {},
     "output_type": "execute_result"
    }
   ],
   "source": [
    "# Sensitivity\n",
    "\n",
    "fse = tp / (tp + fn)\n",
    "fse"
   ]
  },
  {
   "cell_type": "code",
   "execution_count": 179,
   "metadata": {},
   "outputs": [
    {
     "data": {
      "text/plain": [
       "0.9986541049798116"
      ]
     },
     "execution_count": 179,
     "metadata": {},
     "output_type": "execute_result"
    }
   ],
   "source": [
    "# Precision\n",
    "\n",
    "fp = tp / (tp + fp)\n",
    "fp"
   ]
  },
  {
   "cell_type": "code",
   "execution_count": 123,
   "metadata": {},
   "outputs": [
    {
     "data": {
      "text/plain": [
       "0.8716148445336008"
      ]
     },
     "execution_count": 123,
     "metadata": {},
     "output_type": "execute_result"
    }
   ],
   "source": [
    "# Accuracy\n",
    "\n",
    "acc_0 = (tn + tp) / (tn + fp + fn + tp)\n",
    "acc_0"
   ]
  },
  {
   "cell_type": "code",
   "execution_count": 105,
   "metadata": {},
   "outputs": [
    {
     "data": {
      "text/plain": [
       "0.12838515546639917"
      ]
     },
     "execution_count": 105,
     "metadata": {},
     "output_type": "execute_result"
    }
   ],
   "source": [
    "# Misclassifcation Rate\n",
    "\n",
    "1 - acc"
   ]
  },
  {
   "cell_type": "code",
   "execution_count": 106,
   "metadata": {},
   "outputs": [],
   "source": [
    "# We notice from the classification metrics that precision and sensitivity increase signifcantly on the random\n",
    "# forest classification model. The accuracy also increases as well from our previous model."
   ]
  },
  {
   "cell_type": "code",
   "execution_count": 198,
   "metadata": {},
   "outputs": [],
   "source": [
    "scores = [{'Sensitivity' : fse, 'Precision': fp, 'Model': 'RandomForest', 'Accuracy': acc_1, 'Specificity': fsp}, {'Sensitivity' : os, 'Precision': op, 'Model': 'Original','Accuracy': acc_0, 'Specificity': ls}]"
   ]
  },
  {
   "cell_type": "code",
   "execution_count": 199,
   "metadata": {},
   "outputs": [
    {
     "data": {
      "text/html": [
       "<div>\n",
       "<style scoped>\n",
       "    .dataframe tbody tr th:only-of-type {\n",
       "        vertical-align: middle;\n",
       "    }\n",
       "\n",
       "    .dataframe tbody tr th {\n",
       "        vertical-align: top;\n",
       "    }\n",
       "\n",
       "    .dataframe thead th {\n",
       "        text-align: right;\n",
       "    }\n",
       "</style>\n",
       "<table border=\"1\" class=\"dataframe\">\n",
       "  <thead>\n",
       "    <tr style=\"text-align: right;\">\n",
       "      <th></th>\n",
       "      <th>Sensitivity</th>\n",
       "      <th>Precision</th>\n",
       "      <th>Accuracy</th>\n",
       "      <th>Specificity</th>\n",
       "    </tr>\n",
       "    <tr>\n",
       "      <th>Model</th>\n",
       "      <th></th>\n",
       "      <th></th>\n",
       "      <th></th>\n",
       "      <th></th>\n",
       "    </tr>\n",
       "  </thead>\n",
       "  <tbody>\n",
       "    <tr>\n",
       "      <th>RandomForest</th>\n",
       "      <td>0.744233</td>\n",
       "      <td>0.998654</td>\n",
       "      <td>0.871615</td>\n",
       "      <td>0.998997</td>\n",
       "    </tr>\n",
       "    <tr>\n",
       "      <th>Original</th>\n",
       "      <td>0.744233</td>\n",
       "      <td>0.998656</td>\n",
       "      <td>0.799866</td>\n",
       "      <td>0.998998</td>\n",
       "    </tr>\n",
       "  </tbody>\n",
       "</table>\n",
       "</div>"
      ],
      "text/plain": [
       "              Sensitivity  Precision  Accuracy  Specificity\n",
       "Model                                                      \n",
       "RandomForest     0.744233   0.998654  0.871615     0.998997\n",
       "Original         0.744233   0.998656  0.799866     0.998998"
      ]
     },
     "execution_count": 199,
     "metadata": {},
     "output_type": "execute_result"
    }
   ],
   "source": [
    "score = pd.DataFrame(scores)\n",
    "score.set_index('Model', inplace = True)\n",
    "score"
   ]
  },
  {
   "cell_type": "code",
   "execution_count": null,
   "metadata": {},
   "outputs": [],
   "source": []
  }
 ],
 "metadata": {
  "kernelspec": {
   "display_name": "Python 3",
   "language": "python",
   "name": "python3"
  },
  "language_info": {
   "codemirror_mode": {
    "name": "ipython",
    "version": 3
   },
   "file_extension": ".py",
   "mimetype": "text/x-python",
   "name": "python",
   "nbconvert_exporter": "python",
   "pygments_lexer": "ipython3",
   "version": "3.8.3"
  }
 },
 "nbformat": 4,
 "nbformat_minor": 2
}
